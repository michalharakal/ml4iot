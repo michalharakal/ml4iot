{
 "cells": [
  {
   "cell_type": "code",
   "execution_count": 2,
   "id": "02eec85d-316e-4c7c-bb7f-0cfbd11c92fe",
   "metadata": {
    "pycharm": {
     "name": "#%%\n"
    }
   },
   "outputs": [],
   "source": [
    "import qrcode"
   ]
  },
  {
   "cell_type": "code",
   "execution_count": 3,
   "id": "468040ca-148e-4bd2-8194-2489378a8a4f",
   "metadata": {
    "pycharm": {
     "name": "#%%\n"
    }
   },
   "outputs": [],
   "source": [
    "image = qrcode.make(\"https://github.com/michalharakal/ml4iot\")"
   ]
  },
  {
   "cell_type": "code",
   "execution_count": 4,
   "id": "48fd3469-4678-4783-a83b-5e7c73483d56",
   "metadata": {
    "pycharm": {
     "name": "#%%\n"
    }
   },
   "outputs": [],
   "source": [
    "image.save(\"qr.jpg\")"
   ]
  },
  {
   "cell_type": "code",
   "execution_count": null,
   "id": "172480ee-9a0f-4604-a738-b3fa8ffa1f35",
   "metadata": {
    "pycharm": {
     "name": "#%%\n"
    }
   },
   "outputs": [],
   "source": []
  }
 ],
 "metadata": {
  "kernelspec": {
   "display_name": "Python 3 (ipykernel)",
   "language": "python",
   "name": "python3"
  },
  "language_info": {
   "codemirror_mode": {
    "name": "ipython",
    "version": 3
   },
   "file_extension": ".py",
   "mimetype": "text/x-python",
   "name": "python",
   "nbconvert_exporter": "python",
   "pygments_lexer": "ipython3",
   "version": "3.9.6"
  }
 },
 "nbformat": 4,
 "nbformat_minor": 5
}
